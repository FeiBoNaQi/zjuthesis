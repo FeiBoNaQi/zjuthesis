{
 "cells": [
  {
   "cell_type": "code",
   "execution_count": null,
   "metadata": {},
   "outputs": [],
   "source": [
    "import pandas as pd\n",
    "import matplotlib.pyplot as plt\n",
    "import numpy as np\n",
    "from matplotlib.font_manager import FontProperties\n",
    "font = FontProperties(fname=\"/home/bobxu/.fonts/FangSong.ttf\", size=14) "
   ]
  },
  {
   "cell_type": "code",
   "execution_count": null,
   "metadata": {},
   "outputs": [],
   "source": [
    "# Load data from CSV file\n",
    "data = pd.read_csv('../data_for_plot/TSP.csv')\n",
    "\n",
    "# Sort data by epoch_time\n",
    "data = data.sort_values(by='epoch_time')\n",
    "\n",
    "filtered_data = data\n",
    "filtered_data = data[(data['epoch_time'] > 54490) & (data['epoch_time'] < 54510)]\n",
    "filtered_data = filtered_data[((filtered_data['tx_index'] == 1 ) & (filtered_data['rx_index'] == 4 ))]"
   ]
  },
  {
   "cell_type": "code",
   "execution_count": null,
   "metadata": {},
   "outputs": [],
   "source": [
    "epoch_time = filtered_data[\"epoch_time\"].values\n",
    "tx_index = filtered_data[\"tx_index\"].values\n",
    "rx_index = filtered_data[\"rx_index\"].values\n",
    "distribution = [ [float(i) for i in item.strip('[]').split(', ')] for item in filtered_data[\"distribution\"].values]\n",
    "true_distribution = [ [float(i) for i in item.strip('[]').split(', ')] for item in filtered_data[\"true_distribution\"].values]\n",
    "true_x = np.array([ [float(i) for i in item.strip('()').split(', ')] for item in filtered_data[\"pos_x\"].values] )\n",
    "true_y = np.array([ [float(i) for i in item.strip('()').split(', ')] for item in filtered_data[\"pos_y\"].values] )"
   ]
  },
  {
   "cell_type": "code",
   "execution_count": null,
   "metadata": {},
   "outputs": [],
   "source": [
    "index = 400\n",
    "print(epoch_time[index])\n",
    "distance = np.arange(-3,47,1/8) * 0.3\n",
    "\n",
    "plt.figure(1)\n",
    "plt.plot(distance,distribution[index], label='预测概率分布')\n",
    "plt.plot(distance,true_distribution[index], label='真实概率分布')\n",
    "plt.xlabel('距离 (米)', fontproperties=font)\n",
    "plt.ylabel('概率', fontproperties=font)\n",
    "plt.legend(prop=font)\n",
    "plt.savefig('../../figure/plotted/IPL/probability_distribution.png')\n",
    "plt.show()"
   ]
  }
 ],
 "metadata": {
  "kernelspec": {
   "display_name": "IPL",
   "language": "python",
   "name": "python3"
  },
  "language_info": {
   "codemirror_mode": {
    "name": "ipython",
    "version": 3
   },
   "file_extension": ".py",
   "mimetype": "text/x-python",
   "name": "python",
   "nbconvert_exporter": "python",
   "pygments_lexer": "ipython3",
   "version": "3.11.5"
  }
 },
 "nbformat": 4,
 "nbformat_minor": 2
}
