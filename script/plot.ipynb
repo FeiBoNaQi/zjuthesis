{
 "cells": [
  {
   "cell_type": "code",
   "execution_count": null,
   "metadata": {},
   "outputs": [],
   "source": [
    "import matplotlib.pyplot as plt\n",
    "import numpy as np\n",
    "\n",
    "def spectrum_mask(f, f_center, bandwidth):\n",
    "    mask = np.piecewise(f,\n",
    "                        [((f >= f_center - 0.8 * bandwidth) & (f < f_center - 0.65 * bandwidth)) |\n",
    "                         ((f > f_center + 0.65 * bandwidth) & (f <= f_center + 0.8 * bandwidth)),\n",
    "                         (f >= f_center - 0.65 * bandwidth) & (f <= f_center + 0.65 * bandwidth)],\n",
    "                        [-10, 0, -18])\n",
    "    return mask\n",
    "\n",
    "# Given values\n",
    "center_freq_band3 = 4492.8  # MHz\n",
    "bandwidth_band3 = 449.2  # MHz\n",
    "\n",
    "center_freq_band4 = 3993.6  # MHz\n",
    "bandwidth_band4 = 1331.2  # MHz\n",
    "\n",
    "# Frequency ranges\n",
    "f_band3 = np.linspace(center_freq_band3 - bandwidth_band3, center_freq_band3 + bandwidth_band3, 500)\n",
    "f_band4 = np.linspace(center_freq_band4 - bandwidth_band4, center_freq_band4 + bandwidth_band4, 500)\n",
    "\n",
    "# Spectrum mask levels\n",
    "mask_level_band3 = spectrum_mask(f_band3, center_freq_band3, bandwidth_band3)\n",
    "mask_level_band4 = spectrum_mask(f_band4, center_freq_band4, bandwidth_band4)\n",
    "\n",
    "# Create the plot\n",
    "plt.figure()\n",
    "plt.plot(f_band3, mask_level_band3, label='Band 3')\n",
    "plt.plot(f_band4, mask_level_band4, label='Band 4')\n",
    "plt.title('UWB Transmit Spectrum Mask for Band 3 and 4')\n",
    "plt.xlabel('Frequency (MHz)')\n",
    "plt.ylabel('Level (dBr)')\n",
    "plt.legend(loc='upper right', bbox_to_anchor=(1.05, 1.0))  # Adjusted legend position\n",
    "plt.grid(True)\n",
    "plt.savefig('../figure/plotted/spectrum_mask.png')\n",
    "plt.show()\n",
    "\n"
   ]
  },
  {
   "cell_type": "code",
   "execution_count": null,
   "metadata": {},
   "outputs": [],
   "source": []
  }
 ],
 "metadata": {
  "kernelspec": {
   "display_name": "IPL",
   "language": "python",
   "name": "python3"
  },
  "language_info": {
   "codemirror_mode": {
    "name": "ipython",
    "version": 3
   },
   "file_extension": ".py",
   "mimetype": "text/x-python",
   "name": "python",
   "nbconvert_exporter": "python",
   "pygments_lexer": "ipython3",
   "version": "3.11.5"
  },
  "orig_nbformat": 4
 },
 "nbformat": 4,
 "nbformat_minor": 2
}
